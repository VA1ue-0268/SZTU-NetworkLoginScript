{
 "cells": [
  {
   "cell_type": "code",
   "execution_count": null,
   "metadata": {},
   "outputs": [],
   "source": [
    "from urllib import response\n",
    "from bs4 import BeautifulSoup\n",
    "import requests\n",
    "\n",
    "login_url = 'http://47.98.217.39/lfradius/home.php?a=userlogin&c=login'\n",
    "\n",
    "record_url = 'http://47.98.217.39/lfradius/home.php/user/online'\n",
    "\n",
    "header = {\n",
    "    'User-Agent': 'Mozilla/5.0 (Windows NT 10.0; Win64; x64) AppleWebKit/537.36 (KHTML, like Gecko) Chrome/88.0.4324.190 Safari/537.36',\n",
    "    'Content-Type': 'application/x-www-form-urlencoded',\n",
    "    'Referer': 'http://47.98.217.39/lfradius/login.php?c=login&a=showlogin',\n",
    "    }\n",
    "\n",
    "\n",
    "data = 'username= &password='\n",
    "result = requests.post(login_url, headers=header, data=data)\n"
   ]
  },
  {
   "cell_type": "code",
   "execution_count": null,
   "metadata": {},
   "outputs": [],
   "source": [
    "cookie = result.cookies.get_dict()\n",
    "\n",
    "result = requests.get(record_url, headers=header, cookies=cookie)"
   ]
  },
  {
   "cell_type": "code",
   "execution_count": null,
   "metadata": {},
   "outputs": [],
   "source": [
    "result = BeautifulSoup(result.text)\n",
    "table = result.table"
   ]
  },
  {
   "cell_type": "code",
   "execution_count": null,
   "metadata": {},
   "outputs": [],
   "source": [
    "table = result.table\n",
    "for i in table.find_all('button'):\n",
    "    print(i['onclick'].split(',')[1].replace(')', '').replace('\\'', ''))"
   ]
  }
 ],
 "metadata": {
  "kernelspec": {
   "display_name": "Python 3.10.6 64-bit",
   "language": "python",
   "name": "python3"
  },
  "language_info": {
   "codemirror_mode": {
    "name": "ipython",
    "version": 3
   },
   "file_extension": ".py",
   "mimetype": "text/x-python",
   "name": "python",
   "nbconvert_exporter": "python",
   "pygments_lexer": "ipython3",
   "version": "3.10.6"
  },
  "orig_nbformat": 4,
  "vscode": {
   "interpreter": {
    "hash": "3bd13bc16400e16874b7ce28af58a129343287e94248a182c1f06fbb6b76ef8e"
   }
  }
 },
 "nbformat": 4,
 "nbformat_minor": 2
}
